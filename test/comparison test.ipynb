{
 "cells": [
  {
   "cell_type": "code",
   "execution_count": 6,
   "id": "initial_id",
   "metadata": {
    "collapsed": true,
    "ExecuteTime": {
     "end_time": "2024-03-22T09:30:31.699781Z",
     "start_time": "2024-03-22T09:30:31.687504Z"
    }
   },
   "outputs": [],
   "source": [
    "import dotenv\n",
    "import pandas as pd\n",
    "\n",
    "dotenv.load_dotenv()\n",
    "\n",
    "df_test = pd.read_csv(\"../data/split_files/test_counsel_chat.csv\")\n",
    "df_test = df_test[[\"questionTitle\",\"answerText\"]]\n",
    "\n",
    "list_examples = list(df_test.itertuples(index=False, name=None))"
   ]
  },
  {
   "cell_type": "code",
   "outputs": [],
   "source": [
    "from langsmith import Client\n",
    "\n",
    "client = Client()"
   ],
   "metadata": {
    "collapsed": false,
    "ExecuteTime": {
     "end_time": "2024-03-22T09:30:34.290371Z",
     "start_time": "2024-03-22T09:30:34.285350Z"
    }
   },
   "id": "936307d74bff496b",
   "execution_count": 7
  },
  {
   "cell_type": "code",
   "outputs": [],
   "source": [
    "import uuid\n",
    "\n",
    "dataset_name = f\"Mental Health Retrieval QA Questions {str(uuid.uuid4())}\"\n",
    "dataset = client.create_dataset(dataset_name=dataset_name)\n",
    "\n",
    "for q, a in list_examples:\n",
    "    client.create_example(\n",
    "        inputs={\"question\": q}, outputs={\"answer\": a}, dataset_id=dataset.id\n",
    "    )"
   ],
   "metadata": {
    "collapsed": false,
    "ExecuteTime": {
     "end_time": "2024-03-22T09:30:55.207912Z",
     "start_time": "2024-03-22T09:30:40.948681Z"
    }
   },
   "id": "5192f9795c358c1b",
   "execution_count": 8
  },
  {
   "cell_type": "code",
   "outputs": [],
   "source": [
    "from langchain.smith import RunEvalConfig\n",
    "\n",
    "eval_config = RunEvalConfig(\n",
    "    # We will use the chain-of-thought Q&A correctness evaluator\n",
    "    evaluators=[\"cot_qa\"],\n",
    ")"
   ],
   "metadata": {
    "collapsed": false,
    "ExecuteTime": {
     "end_time": "2024-03-22T09:34:27.526389Z",
     "start_time": "2024-03-22T09:34:27.149879Z"
    }
   },
   "id": "8b43d603b56212f0",
   "execution_count": 9
  },
  {
   "cell_type": "code",
   "outputs": [
    {
     "name": "stdout",
     "output_type": "stream",
     "text": [
      "View the evaluation results for project 'spotless-religion-32' at:\n",
      "https://smith.langchain.com/o/adc22f44-a515-576d-9880-914687081682/datasets/8898f5f2-1152-4c16-a269-5581b6a9d1d7/compare?selectedSessions=a7a628ad-1f53-48f2-9a3f-77791738bb1d\n",
      "\n",
      "View all tests for Dataset Mental Health Retrieval QA Questions ddc5edc5-1823-4ceb-bca0-8dea4ae658ce at:\n",
      "https://smith.langchain.com/o/adc22f44-a515-576d-9880-914687081682/datasets/8898f5f2-1152-4c16-a269-5581b6a9d1d7\n"
     ]
    },
    {
     "name": "stderr",
     "output_type": "stream",
     "text": [
      "Chain failed for example 316cad35-ada5-4cdf-9fca-2709e3426b4f with inputs {'question': 'Is it normal to cry during therapy?'}\n",
      "Error Type: TypeError, Message: expected string or buffer\n",
      "Chain failed for example 5b148635-f170-4439-9d59-f6a964482360 with inputs {'question': 'Is it normal to cry during therapy?'}\n",
      "Error Type: TypeError, Message: expected string or buffer\n",
      "Chain failed for example fc31de32-7783-4f9a-b9b3-62cf130eb6d9 with inputs {'question': 'Is it normal to cry during therapy?'}\n",
      "Error Type: TypeError, Message: expected string or buffer\n"
     ]
    },
    {
     "name": "stdout",
     "output_type": "stream",
     "text": [
      "[->                                                ] 4/117"
     ]
    },
    {
     "name": "stderr",
     "output_type": "stream",
     "text": [
      "Chain failed for example 0b8e74e3-193c-4870-b5f0-399a4b5d14d5 with inputs {'question': 'Is it normal to cry during therapy?'}\n",
      "Error Type: TypeError, Message: expected string or buffer\n",
      "Chain failed for example 9fd6ae0a-37f1-43b8-9c39-0d735cacf8b4 with inputs {'question': 'Is it normal to cry during therapy?'}\n",
      "Error Type: TypeError, Message: expected string or buffer\n",
      "Chain failed for example 4c8db141-95a1-4e7d-8cdf-9f2953cdf817 with inputs {'question': 'Is it normal to cry during therapy?'}\n",
      "Error Type: TypeError, Message: expected string or buffer\n",
      "Chain failed for example c875e598-5678-44cb-bb60-d413e2dfbe83 with inputs {'question': 'Is it normal to cry during therapy?'}\n",
      "Error Type: TypeError, Message: expected string or buffer\n",
      "Chain failed for example bb33d2cd-18b4-448e-bc7a-1af3afdac138 with inputs {'question': 'Is it normal to cry during therapy?'}\n",
      "Error Type: TypeError, Message: expected string or buffer\n",
      "Chain failed for example 1f72ff0c-d098-40aa-8b1d-eeb508c80a18 with inputs {'question': 'Is it normal to cry during therapy?'}\n",
      "Error Type: TypeError, Message: expected string or buffer\n",
      "Chain failed for example 5c157a76-a0c4-45a5-975e-d06577d845d4 with inputs {'question': 'Is it normal to cry during therapy?'}\n",
      "Error Type: TypeError, Message: expected string or buffer\n",
      "Chain failed for example a4e7012b-c79e-4f90-96c0-844f505cd234 with inputs {'question': 'Is it normal to cry during therapy?'}\n",
      "Error Type: TypeError, Message: expected string or buffer\n"
     ]
    },
    {
     "name": "stdout",
     "output_type": "stream",
     "text": [
      "[---->                                             ] 11/117"
     ]
    },
    {
     "name": "stderr",
     "output_type": "stream",
     "text": [
      "Chain failed for example 27bd75db-fdeb-4317-af34-a9dd8fc69839 with inputs {'question': 'Is it normal to cry during therapy?'}\n",
      "Error Type: TypeError, Message: expected string or buffer\n",
      "Chain failed for example e9627318-e371-4605-a31b-c216255de1ee with inputs {'question': 'Is it normal to go into therapy feeling nervous?'}\n",
      "Error Type: TypeError, Message: expected string or buffer\n",
      "Chain failed for example 45c5c349-2ce8-460e-aca1-bc2a51a30031 with inputs {'question': 'Is it normal to go into therapy feeling nervous?'}\n",
      "Error Type: TypeError, Message: expected string or buffer\n",
      "Chain failed for example bc30c8a2-c511-40e0-a8de-b73cc367e2eb with inputs {'question': 'Is it normal to go into therapy feeling nervous?'}\n",
      "Error Type: TypeError, Message: expected string or buffer\n",
      "Chain failed for example 09d4bfb4-f2f0-4b2b-b3e4-846cc1537f86 with inputs {'question': 'Is it normal to go into therapy feeling nervous?'}\n",
      "Error Type: TypeError, Message: expected string or buffer\n",
      "Chain failed for example bfc22301-d554-4a60-b5ad-8cd386a62461 with inputs {'question': 'Is it normal to go into therapy feeling nervous?'}\n",
      "Error Type: TypeError, Message: expected string or buffer\n",
      "Chain failed for example 4a2f3456-642f-49b2-be5d-af6f2cac5bca with inputs {'question': 'Is it normal to go into therapy feeling nervous?'}\n",
      "Error Type: TypeError, Message: expected string or buffer\n"
     ]
    },
    {
     "name": "stdout",
     "output_type": "stream",
     "text": [
      "[------->                                          ] 18/117"
     ]
    },
    {
     "name": "stderr",
     "output_type": "stream",
     "text": [
      "Chain failed for example 90d05919-fa2a-46aa-a1fb-550ba63f3857 with inputs {'question': 'Is it normal to go into therapy feeling nervous?'}\n",
      "Error Type: TypeError, Message: expected string or buffer\n",
      "Chain failed for example d1ebb1dc-bb85-45af-927e-f45e43a8211a with inputs {'question': 'Is it normal to go into therapy feeling nervous?'}\n",
      "Error Type: TypeError, Message: expected string or buffer\n",
      "Chain failed for example 19f58feb-7d19-45ea-b579-404ce836933d with inputs {'question': 'Is it normal to go into therapy feeling nervous?'}\n",
      "Error Type: TypeError, Message: expected string or buffer\n",
      "Chain failed for example 690290b1-ea04-4d09-a9ef-9e66e00e413e with inputs {'question': 'Is it normal to go into therapy feeling nervous?'}\n",
      "Error Type: TypeError, Message: expected string or buffer\n",
      "Chain failed for example 0e107673-4b66-4a87-8e16-f68649f1aee1 with inputs {'question': 'Is it normal to go into therapy feeling nervous?'}\n",
      "Error Type: TypeError, Message: expected string or buffer\n",
      "Chain failed for example 93b48800-431b-486e-985a-e3a53dbce9e7 with inputs {'question': 'Is it normal to go into therapy feeling nervous?'}\n",
      "Error Type: TypeError, Message: expected string or buffer\n",
      "Chain failed for example 3f1d6894-850e-4eef-b02f-1e02a09e3fae with inputs {'question': 'Is it normal to go into therapy feeling nervous?'}\n",
      "Error Type: TypeError, Message: expected string or buffer\n",
      "Chain failed for example b26d5357-208a-441a-9df8-34e4477b69fb with inputs {'question': 'Is it normal to go into therapy feeling nervous?'}\n",
      "Error Type: TypeError, Message: expected string or buffer\n"
     ]
    },
    {
     "name": "stdout",
     "output_type": "stream",
     "text": [
      "[---------->                                       ] 26/117"
     ]
    },
    {
     "name": "stderr",
     "output_type": "stream",
     "text": [
      "Chain failed for example e16d5666-3a7d-4fe5-8f4f-cb5a52083e93 with inputs {'question': 'Is it normal to go into therapy feeling nervous?'}\n",
      "Error Type: TypeError, Message: expected string or buffer\n",
      "Chain failed for example 6d138397-79f8-4874-98c5-3d6212c8bc36 with inputs {'question': 'Is it normal to go into therapy feeling nervous?'}\n",
      "Error Type: TypeError, Message: expected string or buffer\n",
      "Chain failed for example adbe7569-88a9-401d-b53c-ffb80b49cc11 with inputs {'question': 'Is it normal to go into therapy feeling nervous?'}\n",
      "Error Type: TypeError, Message: expected string or buffer\n",
      "Chain failed for example 4913ff40-d7ca-406a-ab81-f74249f5ee41 with inputs {'question': 'Is it normal to go into therapy feeling nervous?'}\n",
      "Error Type: TypeError, Message: expected string or buffer\n",
      "Chain failed for example 7fb5518c-0508-4bd5-9d29-179eca72c67b with inputs {'question': 'Is it normal to go into therapy feeling nervous?'}\n",
      "Error Type: TypeError, Message: expected string or buffer\n",
      "Chain failed for example 470bd780-afa2-447d-84b4-1365803ee2d7 with inputs {'question': 'Is it normal to go into therapy feeling nervous?'}\n",
      "Error Type: TypeError, Message: expected string or buffer\n"
     ]
    },
    {
     "name": "stdout",
     "output_type": "stream",
     "text": [
      "[------------->                                    ] 33/117"
     ]
    },
    {
     "name": "stderr",
     "output_type": "stream",
     "text": [
      "Chain failed for example bb42fedc-ab27-407c-859c-c2f95b8a4191 with inputs {'question': 'Is it normal to go into therapy feeling nervous?'}\n",
      "Error Type: TypeError, Message: expected string or buffer\n",
      "Chain failed for example 6e5d2c46-94a0-4701-acd4-2b58b9cb7985 with inputs {'question': 'Is it normal to go into therapy feeling nervous?'}\n",
      "Error Type: TypeError, Message: expected string or buffer\n",
      "Chain failed for example dccf0900-5c40-4144-9fb7-fbaca6e97fdc with inputs {'question': 'Is it normal to go into therapy feeling nervous?'}\n",
      "Error Type: TypeError, Message: expected string or buffer\n",
      "Chain failed for example eef8eb44-a283-48eb-8571-4d7c465804a5 with inputs {'question': 'Is it normal to go into therapy feeling nervous?'}\n",
      "Error Type: TypeError, Message: expected string or buffer\n",
      "Chain failed for example 44effe81-18be-42ad-aedb-73defffb3514 with inputs {'question': 'Is it normal to go into therapy feeling nervous?'}\n",
      "Error Type: TypeError, Message: expected string or buffer\n",
      "Chain failed for example 1ffbf382-d7c0-448d-b472-f83a3737fb73 with inputs {'question': 'Is it normal to go into therapy feeling nervous?'}\n",
      "Error Type: TypeError, Message: expected string or buffer\n",
      "Chain failed for example e5871286-2f1e-4b2b-8945-de5051e671d5 with inputs {'question': 'Why do I feel like I need a man in my life?'}\n",
      "Error Type: TypeError, Message: expected string or buffer\n",
      "Chain failed for example 8d68c5a5-37a0-4cbb-a3cf-941e467f510f with inputs {'question': 'How will I check if there really is something wrong with me?'}\n",
      "Error Type: TypeError, Message: expected string or buffer\n"
     ]
    },
    {
     "name": "stdout",
     "output_type": "stream",
     "text": [
      "[---------------->                                 ] 40/117"
     ]
    },
    {
     "name": "stderr",
     "output_type": "stream",
     "text": [
      "Chain failed for example 6ee7b8f7-29f8-4476-8078-a6af46333239 with inputs {'question': \"My fiancé is trying to hide that he's texting his ex-girlfriend\"}\n",
      "Error Type: TypeError, Message: expected string or buffer\n",
      "Chain failed for example c5ff3491-be2b-4094-b37f-bb5b7b434948 with inputs {'question': \"I'm a teenager, and I want to have a baby with my boyfriend\"}\n",
      "Error Type: TypeError, Message: expected string or buffer\n",
      "Chain failed for example ea8452db-6f3a-49ea-8ebe-f1d6155ec9e5 with inputs {'question': 'I am 18 years old with a baby on the way'}\n",
      "Error Type: TypeError, Message: expected string or buffer\n",
      "Chain failed for example 75ddb725-fdaf-4b2c-a418-4b8c4411efd9 with inputs {'question': 'Why does my boyfriend think every some I like means something about our relationship?'}\n",
      "Error Type: TypeError, Message: expected string or buffer\n",
      "Chain failed for example e3ede043-5fb5-4b8e-a9f0-c6bb80c51b16 with inputs {'question': 'I want to become a better man'}\n",
      "Error Type: TypeError, Message: expected string or buffer\n",
      "Chain failed for example 79dab104-b244-4d83-9b74-8c25006dce3b with inputs {'question': 'I want to become a better man'}\n",
      "Error Type: TypeError, Message: expected string or buffer\n"
     ]
    },
    {
     "name": "stdout",
     "output_type": "stream",
     "text": [
      "[------------------->                              ] 47/117"
     ]
    },
    {
     "name": "stderr",
     "output_type": "stream",
     "text": [
      "Chain failed for example 62c1f17a-4303-413f-aa50-9eef9f099aec with inputs {'question': 'I want to become a better man'}\n",
      "Error Type: TypeError, Message: expected string or buffer\n",
      "Chain failed for example 983592a7-b375-40ec-9d80-3faf3805c438 with inputs {'question': 'I want to become a better man'}\n",
      "Error Type: TypeError, Message: expected string or buffer\n",
      "Chain failed for example 9dc01d45-8fec-431e-8ac3-4e0d6053c7b9 with inputs {'question': 'I want to become a better man'}\n",
      "Error Type: TypeError, Message: expected string or buffer\n",
      "Chain failed for example 6ee394c9-38bc-4ad2-aa50-60caca316098 with inputs {'question': 'I want to become a better man'}\n",
      "Error Type: TypeError, Message: expected string or buffer\n",
      "Chain failed for example 12ef8aea-4e93-426b-b03a-c0ebef64e711 with inputs {'question': 'I want to become a better man'}\n",
      "Error Type: TypeError, Message: expected string or buffer\n",
      "Chain failed for example f8a08e82-52b5-486a-876b-3c8bcfe8ccea with inputs {'question': 'I want to become a better man'}\n",
      "Error Type: TypeError, Message: expected string or buffer\n",
      "Chain failed for example d8157b88-62d6-4ff9-bf48-28a54268cc52 with inputs {'question': 'I want to become a better man'}\n",
      "Error Type: TypeError, Message: expected string or buffer\n"
     ]
    },
    {
     "name": "stdout",
     "output_type": "stream",
     "text": [
      "[---------------------->                           ] 53/117"
     ]
    },
    {
     "name": "stderr",
     "output_type": "stream",
     "text": [
      "Chain failed for example b17edb82-64d8-4a7c-841d-1f23ed7f6a28 with inputs {'question': 'How do I see a therapist without having healthcare?'}\n",
      "Error Type: TypeError, Message: expected string or buffer\n",
      "Chain failed for example 5752080a-195c-476c-9a21-b4a1ccf40f0b with inputs {'question': 'How do I see a therapist without having healthcare?'}\n",
      "Error Type: TypeError, Message: expected string or buffer\n",
      "Chain failed for example 9a730efd-a163-4581-a47a-d08b55005f40 with inputs {'question': 'How do I see a therapist without having healthcare?'}\n",
      "Error Type: TypeError, Message: expected string or buffer\n",
      "Chain failed for example 7ce08651-4f7a-4792-a1ca-5f9cd02c09df with inputs {'question': \"How do I move on from my husband's cheating?\"}\n",
      "Error Type: TypeError, Message: expected string or buffer\n",
      "Chain failed for example e9e59339-64a4-4761-9f29-9e4bab88eefd with inputs {'question': \"My husband doesn't include me in the family\"}\n",
      "Error Type: TypeError, Message: expected string or buffer\n",
      "Chain failed for example ea468949-1e89-475b-b264-ec105420694e with inputs {'question': \"How do I tell my parents that I'm gay?\"}\n",
      "Error Type: TypeError, Message: expected string or buffer\n",
      "Chain failed for example f1fc218f-5892-4a89-822c-3eadbe29c161 with inputs {'question': 'I over endulge when I drink alcohol and feel extremely guilty about it the next day'}\n",
      "Error Type: TypeError, Message: expected string or buffer\n"
     ]
    },
    {
     "name": "stdout",
     "output_type": "stream",
     "text": [
      "[------------------------->                        ] 60/117"
     ]
    },
    {
     "name": "stderr",
     "output_type": "stream",
     "text": [
      "Chain failed for example 816f4b9e-09fd-4c75-87d9-96fcd27d3f43 with inputs {'question': 'I over endulge when I drink alcohol and feel extremely guilty about it the next day'}\n",
      "Error Type: TypeError, Message: expected string or buffer\n",
      "Chain failed for example 4c0a7f91-358d-42bf-b804-fd643af73746 with inputs {'question': 'I over endulge when I drink alcohol and feel extremely guilty about it the next day'}\n",
      "Error Type: TypeError, Message: expected string or buffer\n",
      "Chain failed for example 0f6ffede-6ef6-45ee-b9ba-bc3430821d00 with inputs {'question': 'I over endulge when I drink alcohol and feel extremely guilty about it the next day'}\n",
      "Error Type: TypeError, Message: expected string or buffer\n",
      "Chain failed for example aaed4e6c-79c0-401b-b1f8-e162cdb31053 with inputs {'question': 'I over endulge when I drink alcohol and feel extremely guilty about it the next day'}\n",
      "Error Type: TypeError, Message: expected string or buffer\n",
      "Chain failed for example cd6ddf0f-5419-4219-9f50-c5f4e5647c46 with inputs {'question': 'I over endulge when I drink alcohol and feel extremely guilty about it the next day'}\n",
      "Error Type: TypeError, Message: expected string or buffer\n",
      "Chain failed for example be89a1a6-1993-4221-9e06-d98f8e16afd2 with inputs {'question': 'How do I stop grieving my mother’s death?'}\n",
      "Error Type: TypeError, Message: expected string or buffer\n"
     ]
    },
    {
     "name": "stdout",
     "output_type": "stream",
     "text": [
      "[--------------------------->                      ] 66/117"
     ]
    },
    {
     "name": "stderr",
     "output_type": "stream",
     "text": [
      "Chain failed for example c23604c6-e9a1-4465-8f6c-e862e7678ebe with inputs {'question': 'I think my wife is running from the pain of losing our first born'}\n",
      "Error Type: TypeError, Message: expected string or buffer\n",
      "Chain failed for example ca12d12d-f8ba-42da-8db5-5f24f06e1dff with inputs {'question': 'Do I leave my cheating husband or share him with someone?'}\n",
      "Error Type: TypeError, Message: expected string or buffer\n",
      "Chain failed for example 56001eb7-c4c1-450c-916b-5b653127462e with inputs {'question': 'How can I get my fiancé to notice me again?'}\n",
      "Error Type: TypeError, Message: expected string or buffer\n",
      "Chain failed for example 5e46f7e7-3489-4b38-925b-b6f4bcb21771 with inputs {'question': 'How can I get my fiancé to notice me again?'}\n",
      "Error Type: TypeError, Message: expected string or buffer\n",
      "Chain failed for example 897cc9c9-cfe4-43e2-8382-aeb65da01b1f with inputs {'question': 'How can I get my fiancé to notice me again?'}\n",
      "Error Type: TypeError, Message: expected string or buffer\n",
      "Chain failed for example a268417e-dcbc-4073-bf70-db9cefc46965 with inputs {'question': 'What can I do about my boyfriend insulting my body?'}\n",
      "Error Type: TypeError, Message: expected string or buffer\n"
     ]
    },
    {
     "name": "stdout",
     "output_type": "stream",
     "text": [
      "[------------------------------->                  ] 74/117"
     ]
    },
    {
     "name": "stderr",
     "output_type": "stream",
     "text": [
      "Chain failed for example 17249603-317d-429c-87bd-23428577bfc3 with inputs {'question': \"How can I have a better sex life when I don't like sex?\"}\n",
      "Error Type: TypeError, Message: expected string or buffer\n",
      "Chain failed for example 737ce08b-5aee-4b50-975d-33ee020c3fdd with inputs {'question': 'What can I do about my boyfriend insulting my body?'}\n",
      "Error Type: TypeError, Message: expected string or buffer\n",
      "Chain failed for example cb200b7c-ddeb-4f7d-86d6-f2d16c779724 with inputs {'question': \"How can I have a better sex life when I don't like sex?\"}\n",
      "Error Type: TypeError, Message: expected string or buffer\n",
      "Chain failed for example 8509f3f2-40a0-4ad9-b641-39945a67edd5 with inputs {'question': \"How can I have a better sex life when I don't like sex?\"}\n",
      "Error Type: TypeError, Message: expected string or buffer\n",
      "Chain failed for example 38e0cc48-39a1-4742-a7aa-0fb7e0c8b852 with inputs {'question': \"How can I have a better sex life when I don't like sex?\"}\n",
      "Error Type: TypeError, Message: expected string or buffer\n",
      "Chain failed for example ffcbd68c-8bd1-4dec-9a93-2b287b2103ea with inputs {'question': \"How can I have a better sex life when I don't like sex?\"}\n",
      "Error Type: TypeError, Message: expected string or buffer\n",
      "Chain failed for example c4884000-b3f8-4d8d-ac6b-590253974a40 with inputs {'question': \"How can I have a better sex life when I don't like sex?\"}\n",
      "Error Type: TypeError, Message: expected string or buffer\n",
      "Chain failed for example 804a989e-f514-4c97-ab0c-9e5cf5931bd0 with inputs {'question': \"How can I have a better sex life when I don't like sex?\"}\n",
      "Error Type: TypeError, Message: expected string or buffer\n"
     ]
    },
    {
     "name": "stdout",
     "output_type": "stream",
     "text": [
      "[---------------------------------->               ] 81/117"
     ]
    },
    {
     "name": "stderr",
     "output_type": "stream",
     "text": [
      "Chain failed for example 5803c69c-5ce6-42df-a371-db5d092fddd9 with inputs {'question': \"How can I have a better sex life when I don't like sex?\"}\n",
      "Error Type: TypeError, Message: expected string or buffer\n",
      "Chain failed for example bcc4b13c-df67-4cc0-8fcc-a49d8219aed4 with inputs {'question': 'How do I get out of an abusive relationship?'}\n",
      "Error Type: TypeError, Message: expected string or buffer\n",
      "Chain failed for example e505d6cb-11bf-47f3-9a4c-37f63239baae with inputs {'question': 'Is there something I should do to help my friend who is in an abusive relationship?'}\n",
      "Error Type: TypeError, Message: expected string or buffer\n",
      "Chain failed for example 20c59432-72cc-4771-899e-c624506b2c57 with inputs {'question': \"My husband and I are separated. I'm so scared of getting divorced\"}\n",
      "Error Type: TypeError, Message: expected string or buffer\n",
      "Chain failed for example 7d723e52-62af-4be8-905c-03678506e3a1 with inputs {'question': 'Why do I still feel a connection with my ex-boyfriend that hurt me very badly?'}\n",
      "Error Type: TypeError, Message: expected string or buffer\n",
      "Chain failed for example 635e929e-fd7a-4b5b-8d6b-a9a4a6bda8b6 with inputs {'question': 'How do I let go of someone who continues to hurt me'}\n",
      "Error Type: TypeError, Message: expected string or buffer\n",
      "Chain failed for example cf8192c2-a97e-48a1-8e00-652ef6e1d86e with inputs {'question': 'How do I let go of someone who continues to hurt me'}\n",
      "Error Type: TypeError, Message: expected string or buffer\n",
      "Chain failed for example 3b0d0bbe-a3de-40ad-ab00-af64b76ead4f with inputs {'question': 'How do I move on?'}\n",
      "Error Type: TypeError, Message: expected string or buffer\n"
     ]
    },
    {
     "name": "stdout",
     "output_type": "stream",
     "text": [
      "[------------------------------------->            ] 88/117"
     ]
    },
    {
     "name": "stderr",
     "output_type": "stream",
     "text": [
      "Chain failed for example bf28fea1-f813-43d3-8f1b-4d578acf3e58 with inputs {'question': 'How do I move on?'}\n",
      "Error Type: TypeError, Message: expected string or buffer\n",
      "Chain failed for example 4af6a109-f586-4771-bfd1-b51e8b5e6d87 with inputs {'question': 'How do I move on?'}\n",
      "Error Type: TypeError, Message: expected string or buffer\n",
      "Chain failed for example 7be79304-d6ff-47e1-950e-cc8887314a2e with inputs {'question': 'How do I move on?'}\n",
      "Error Type: TypeError, Message: expected string or buffer\n",
      "Chain failed for example 5074ad08-285e-4a1c-ba31-e633f59c69ef with inputs {'question': 'How do I move on?'}\n",
      "Error Type: TypeError, Message: expected string or buffer\n",
      "Chain failed for example 7929c503-3904-46b0-98d4-6bb045bdf133 with inputs {'question': 'How do I move on?'}\n",
      "Error Type: TypeError, Message: expected string or buffer\n",
      "Chain failed for example fb91a2e5-5a1b-408d-bbfb-82b705a9025c with inputs {'question': 'How do I move on?'}\n",
      "Error Type: TypeError, Message: expected string or buffer\n",
      "Chain failed for example 9a638bce-ce31-4987-a8ef-0d52e75acb97 with inputs {'question': 'How do I move on?'}\n",
      "Error Type: TypeError, Message: expected string or buffer\n"
     ]
    },
    {
     "name": "stdout",
     "output_type": "stream",
     "text": [
      "[---------------------------------------->         ] 95/117"
     ]
    },
    {
     "name": "stderr",
     "output_type": "stream",
     "text": [
      "Chain failed for example 046093dc-399c-49d2-89fc-df5aaeb9a841 with inputs {'question': 'How do I move on?'}\n",
      "Error Type: TypeError, Message: expected string or buffer\n",
      "Chain failed for example fae0514b-db61-48c6-9852-48a6d661fca6 with inputs {'question': \"I'm a 19 year old male with low self esteem. I've always been very closed off about my feelings and problems\"}\n",
      "Error Type: TypeError, Message: expected string or buffer\n",
      "Chain failed for example 0432731d-e690-49da-a411-89662ba4612e with inputs {'question': 'i feel like i was born in the wrong body'}\n",
      "Error Type: TypeError, Message: expected string or buffer\n",
      "Chain failed for example d313d6c0-72e2-483a-9e90-445adc625ef3 with inputs {'question': 'How can I feel less self-conscious about my weight?'}\n",
      "Error Type: TypeError, Message: expected string or buffer\n",
      "Chain failed for example 18788502-bf72-4508-a2b2-c57d38f1da7f with inputs {'question': 'How can I feel less self-conscious about my weight?'}\n",
      "Error Type: TypeError, Message: expected string or buffer\n",
      "Chain failed for example 89166b81-3b42-4897-9cf6-55522abc30c3 with inputs {'question': 'How can I help my kids get along?'}\n",
      "Error Type: TypeError, Message: expected string or buffer\n",
      "Chain failed for example 665f7fd1-e61b-48fc-bfbc-587c0284dbd3 with inputs {'question': 'My mentally-ill mother-in-law wants to babysit'}\n",
      "Error Type: TypeError, Message: expected string or buffer\n"
     ]
    },
    {
     "name": "stdout",
     "output_type": "stream",
     "text": [
      "[------------------------------------------->      ] 102/117"
     ]
    },
    {
     "name": "stderr",
     "output_type": "stream",
     "text": [
      "Chain failed for example 6906949b-e52a-4cc7-bde2-bd676ca76c50 with inputs {'question': 'I feel like there is a wedge between my daughter and I'}\n",
      "Error Type: TypeError, Message: expected string or buffer\n",
      "Chain failed for example bc45e3a7-2a92-4da5-8cc1-248843208fe8 with inputs {'question': 'Is it ok ayto talk with my grown children about spending time with their children?'}\n",
      "Error Type: TypeError, Message: expected string or buffer\n",
      "Chain failed for example 389b4b29-ec1a-47cf-86b5-c06a0877b6ad with inputs {'question': 'I am fearful of social situations and avoiding people all together'}\n",
      "Error Type: TypeError, Message: expected string or buffer\n",
      "Chain failed for example 53569be4-6cd9-4da7-a8a7-41fa25dd53fe with inputs {'question': 'I am fearful of social situations and avoiding people all together'}\n",
      "Error Type: TypeError, Message: expected string or buffer\n",
      "Chain failed for example 96074624-ec4d-41a0-b437-6db10c50b40a with inputs {'question': 'How can I deal with flashbacks of trauma?'}\n",
      "Error Type: TypeError, Message: expected string or buffer\n",
      "Chain failed for example b8c0f5bb-98d5-4c0b-b1a9-06d44a6b010e with inputs {'question': 'How do I get over my anxiety of talking to new people?'}\n",
      "Error Type: TypeError, Message: expected string or buffer\n",
      "Chain failed for example 1e7a58ec-f724-43af-8a99-cc36bba9544d with inputs {'question': 'How do I fight inner loneliness from depression and a severe anxiety disorder?'}\n",
      "Error Type: TypeError, Message: expected string or buffer\n",
      "Chain failed for example f43b6d14-3c0a-4c83-9127-ab19166c8391 with inputs {'question': 'Relationships cause me anxiety and nausea'}\n",
      "Error Type: TypeError, Message: expected string or buffer\n"
     ]
    },
    {
     "name": "stdout",
     "output_type": "stream",
     "text": [
      "[---------------------------------------------->   ] 110/117"
     ]
    },
    {
     "name": "stderr",
     "output_type": "stream",
     "text": [
      "Chain failed for example 8bd45e9f-0732-494c-9f94-120da01fccab with inputs {'question': \"How can I feel so empty even though I'm only in my early teens?\"}\n",
      "Error Type: TypeError, Message: expected string or buffer\n",
      "Chain failed for example cf04a948-13ff-474c-ae1b-7c28eff5fd53 with inputs {'question': 'How can I help my girlfriend?'}\n",
      "Error Type: TypeError, Message: expected string or buffer\n",
      "Chain failed for example cc420976-aaa7-4b72-b6ba-657cba0726a5 with inputs {'question': 'How can I help my girlfriend?'}\n",
      "Error Type: TypeError, Message: expected string or buffer\n",
      "Chain failed for example 6b6f3936-9f16-432a-b97a-d802ff5b4635 with inputs {'question': 'How can I help my girlfriend?'}\n",
      "Error Type: TypeError, Message: expected string or buffer\n",
      "Chain failed for example c1f2af23-c637-4da7-8264-974de10b3b49 with inputs {'question': 'How can I help my girlfriend?'}\n",
      "Error Type: TypeError, Message: expected string or buffer\n",
      "Chain failed for example b1427cc3-50c0-4814-a75a-6730826c666e with inputs {'question': 'How can I help my girlfriend?'}\n",
      "Error Type: TypeError, Message: expected string or buffer\n",
      "Chain failed for example f4b707d8-3021-488b-8270-704f30f6e261 with inputs {'question': \"Is wishing I wasn't born a sign of something deeper?\"}\n",
      "Error Type: TypeError, Message: expected string or buffer\n"
     ]
    },
    {
     "name": "stdout",
     "output_type": "stream",
     "text": [
      "[------------------------------------------------->] 117/117"
     ]
    }
   ],
   "source": [
    "from chains.faq_vector_db_chain import faq_chain \n",
    "\n",
    "results = client.run_on_dataset(\n",
    "    dataset_name=dataset_name, llm_or_chain_factory=faq_chain, evaluation=eval_config\n",
    ")\n",
    "project_name = results[\"project_name\"]"
   ],
   "metadata": {
    "collapsed": false,
    "ExecuteTime": {
     "end_time": "2024-03-22T09:39:42.475752Z",
     "start_time": "2024-03-22T09:39:38.102615Z"
    }
   },
   "id": "ae70187c4b6493f9",
   "execution_count": 11
  },
  {
   "cell_type": "code",
   "outputs": [],
   "source": [],
   "metadata": {
    "collapsed": false
   },
   "id": "fcd3cfcd937d6c5d"
  }
 ],
 "metadata": {
  "kernelspec": {
   "display_name": "Python 3",
   "language": "python",
   "name": "python3"
  },
  "language_info": {
   "codemirror_mode": {
    "name": "ipython",
    "version": 2
   },
   "file_extension": ".py",
   "mimetype": "text/x-python",
   "name": "python",
   "nbconvert_exporter": "python",
   "pygments_lexer": "ipython2",
   "version": "2.7.6"
  }
 },
 "nbformat": 4,
 "nbformat_minor": 5
}
